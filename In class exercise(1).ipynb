{
 "cells": [
  {
   "cell_type": "code",
   "execution_count": 1,
   "metadata": {
    "collapsed": true
   },
   "outputs": [],
   "source": [
    "import pandas as pd"
   ]
  },
  {
   "cell_type": "code",
   "execution_count": 2,
   "metadata": {
    "collapsed": true
   },
   "outputs": [],
   "source": [
    "data = pd.read_csv('adult.csv',)"
   ]
  },
  {
   "cell_type": "code",
   "execution_count": 3,
   "metadata": {},
   "outputs": [
    {
     "data": {
      "text/html": [
       "<div>\n",
       "<style scoped>\n",
       "    .dataframe tbody tr th:only-of-type {\n",
       "        vertical-align: middle;\n",
       "    }\n",
       "\n",
       "    .dataframe tbody tr th {\n",
       "        vertical-align: top;\n",
       "    }\n",
       "\n",
       "    .dataframe thead th {\n",
       "        text-align: right;\n",
       "    }\n",
       "</style>\n",
       "<table border=\"1\" class=\"dataframe\">\n",
       "  <thead>\n",
       "    <tr style=\"text-align: right;\">\n",
       "      <th></th>\n",
       "      <th>age</th>\n",
       "      <th>workclass</th>\n",
       "      <th>fnlwgt</th>\n",
       "      <th>education</th>\n",
       "      <th>education-num</th>\n",
       "      <th>marital-status</th>\n",
       "      <th>occupation</th>\n",
       "      <th>relationship</th>\n",
       "      <th>race</th>\n",
       "      <th>sex</th>\n",
       "      <th>capital-gain</th>\n",
       "      <th>capital-loss</th>\n",
       "      <th>hours-per-week</th>\n",
       "      <th>native-country</th>\n",
       "      <th>Salary</th>\n",
       "    </tr>\n",
       "  </thead>\n",
       "  <tbody>\n",
       "    <tr>\n",
       "      <th>0</th>\n",
       "      <td>39</td>\n",
       "      <td>State-gov</td>\n",
       "      <td>77516</td>\n",
       "      <td>Bachelors</td>\n",
       "      <td>13</td>\n",
       "      <td>Never-married</td>\n",
       "      <td>Adm-clerical</td>\n",
       "      <td>Not-in-family</td>\n",
       "      <td>White</td>\n",
       "      <td>Male</td>\n",
       "      <td>2174</td>\n",
       "      <td>0</td>\n",
       "      <td>40</td>\n",
       "      <td>United-States</td>\n",
       "      <td>&lt;=50K</td>\n",
       "    </tr>\n",
       "    <tr>\n",
       "      <th>1</th>\n",
       "      <td>50</td>\n",
       "      <td>Self-emp-not-inc</td>\n",
       "      <td>83311</td>\n",
       "      <td>Bachelors</td>\n",
       "      <td>13</td>\n",
       "      <td>Married-civ-spouse</td>\n",
       "      <td>Exec-managerial</td>\n",
       "      <td>Husband</td>\n",
       "      <td>White</td>\n",
       "      <td>Male</td>\n",
       "      <td>0</td>\n",
       "      <td>0</td>\n",
       "      <td>13</td>\n",
       "      <td>United-States</td>\n",
       "      <td>&lt;=50K</td>\n",
       "    </tr>\n",
       "    <tr>\n",
       "      <th>2</th>\n",
       "      <td>38</td>\n",
       "      <td>Private</td>\n",
       "      <td>215646</td>\n",
       "      <td>HS-grad</td>\n",
       "      <td>9</td>\n",
       "      <td>Divorced</td>\n",
       "      <td>Handlers-cleaners</td>\n",
       "      <td>Not-in-family</td>\n",
       "      <td>White</td>\n",
       "      <td>Male</td>\n",
       "      <td>0</td>\n",
       "      <td>0</td>\n",
       "      <td>40</td>\n",
       "      <td>United-States</td>\n",
       "      <td>&lt;=50K</td>\n",
       "    </tr>\n",
       "    <tr>\n",
       "      <th>3</th>\n",
       "      <td>53</td>\n",
       "      <td>Private</td>\n",
       "      <td>234721</td>\n",
       "      <td>11th</td>\n",
       "      <td>7</td>\n",
       "      <td>Married-civ-spouse</td>\n",
       "      <td>Handlers-cleaners</td>\n",
       "      <td>Husband</td>\n",
       "      <td>Black</td>\n",
       "      <td>Male</td>\n",
       "      <td>0</td>\n",
       "      <td>0</td>\n",
       "      <td>40</td>\n",
       "      <td>United-States</td>\n",
       "      <td>&lt;=50K</td>\n",
       "    </tr>\n",
       "    <tr>\n",
       "      <th>4</th>\n",
       "      <td>28</td>\n",
       "      <td>Private</td>\n",
       "      <td>338409</td>\n",
       "      <td>Bachelors</td>\n",
       "      <td>13</td>\n",
       "      <td>Married-civ-spouse</td>\n",
       "      <td>Prof-specialty</td>\n",
       "      <td>Wife</td>\n",
       "      <td>Black</td>\n",
       "      <td>Female</td>\n",
       "      <td>0</td>\n",
       "      <td>0</td>\n",
       "      <td>40</td>\n",
       "      <td>Cuba</td>\n",
       "      <td>&lt;=50K</td>\n",
       "    </tr>\n",
       "  </tbody>\n",
       "</table>\n",
       "</div>"
      ],
      "text/plain": [
       "   age          workclass  fnlwgt   education  education-num  \\\n",
       "0   39          State-gov   77516   Bachelors             13   \n",
       "1   50   Self-emp-not-inc   83311   Bachelors             13   \n",
       "2   38            Private  215646     HS-grad              9   \n",
       "3   53            Private  234721        11th              7   \n",
       "4   28            Private  338409   Bachelors             13   \n",
       "\n",
       "        marital-status          occupation    relationship    race      sex  \\\n",
       "0        Never-married        Adm-clerical   Not-in-family   White     Male   \n",
       "1   Married-civ-spouse     Exec-managerial         Husband   White     Male   \n",
       "2             Divorced   Handlers-cleaners   Not-in-family   White     Male   \n",
       "3   Married-civ-spouse   Handlers-cleaners         Husband   Black     Male   \n",
       "4   Married-civ-spouse      Prof-specialty            Wife   Black   Female   \n",
       "\n",
       "   capital-gain  capital-loss  hours-per-week  native-country  Salary  \n",
       "0          2174             0              40   United-States   <=50K  \n",
       "1             0             0              13   United-States   <=50K  \n",
       "2             0             0              40   United-States   <=50K  \n",
       "3             0             0              40   United-States   <=50K  \n",
       "4             0             0              40            Cuba   <=50K  "
      ]
     },
     "execution_count": 3,
     "metadata": {},
     "output_type": "execute_result"
    }
   ],
   "source": [
    "data.head()"
   ]
  },
  {
   "cell_type": "code",
   "execution_count": 4,
   "metadata": {},
   "outputs": [
    {
     "data": {
      "text/plain": [
       "Index(['age', 'workclass', 'fnlwgt', 'education', 'education-num',\n",
       "       'marital-status', 'occupation', 'relationship', 'race', 'sex',\n",
       "       'capital-gain', 'capital-loss', 'hours-per-week', 'native-country',\n",
       "       'Salary'],\n",
       "      dtype='object')"
      ]
     },
     "execution_count": 4,
     "metadata": {},
     "output_type": "execute_result"
    }
   ],
   "source": [
    "data.columns"
   ]
  },
  {
   "cell_type": "code",
   "execution_count": 5,
   "metadata": {
    "collapsed": true
   },
   "outputs": [],
   "source": [
    "columns = ['workclass','education','marital-status', 'occupation','relationship','race','sex','native-country','Salary']"
   ]
  },
  {
   "cell_type": "code",
   "execution_count": 6,
   "metadata": {
    "collapsed": true
   },
   "outputs": [],
   "source": [
    "columns2 = ['age', 'capital-gain', 'capital-loss', 'hours-per-week']\n",
    "data2 = data[columns2]\n",
    "\n",
    "data = pd.get_dummies(data[columns])\n",
    "frames = [data2, data]\n",
    "data = pd.concat(frames, axis = 1)"
   ]
  },
  {
   "cell_type": "code",
   "execution_count": 7,
   "metadata": {},
   "outputs": [
    {
     "data": {
      "text/plain": [
       "Index(['age', 'capital-gain', 'capital-loss', 'hours-per-week', 'workclass_ ?',\n",
       "       'workclass_ Federal-gov', 'workclass_ Local-gov',\n",
       "       'workclass_ Never-worked', 'workclass_ Private',\n",
       "       'workclass_ Self-emp-inc',\n",
       "       ...\n",
       "       'native-country_ Scotland', 'native-country_ South',\n",
       "       'native-country_ Taiwan', 'native-country_ Thailand',\n",
       "       'native-country_ Trinadad&Tobago', 'native-country_ United-States',\n",
       "       'native-country_ Vietnam', 'native-country_ Yugoslavia',\n",
       "       'Salary_ <=50K', 'Salary_ >50K'],\n",
       "      dtype='object', length=108)"
      ]
     },
     "execution_count": 7,
     "metadata": {},
     "output_type": "execute_result"
    }
   ],
   "source": [
    "data.columns"
   ]
  },
  {
   "cell_type": "code",
   "execution_count": 8,
   "metadata": {
    "collapsed": true
   },
   "outputs": [],
   "source": [
    "data = data.drop(['sex_ Male','Salary_ <=50K'], axis = 1)"
   ]
  },
  {
   "cell_type": "code",
   "execution_count": 9,
   "metadata": {},
   "outputs": [
    {
     "data": {
      "text/html": [
       "<div>\n",
       "<style scoped>\n",
       "    .dataframe tbody tr th:only-of-type {\n",
       "        vertical-align: middle;\n",
       "    }\n",
       "\n",
       "    .dataframe tbody tr th {\n",
       "        vertical-align: top;\n",
       "    }\n",
       "\n",
       "    .dataframe thead th {\n",
       "        text-align: right;\n",
       "    }\n",
       "</style>\n",
       "<table border=\"1\" class=\"dataframe\">\n",
       "  <thead>\n",
       "    <tr style=\"text-align: right;\">\n",
       "      <th></th>\n",
       "      <th>age</th>\n",
       "      <th>capital-gain</th>\n",
       "      <th>capital-loss</th>\n",
       "      <th>hours-per-week</th>\n",
       "      <th>workclass_ ?</th>\n",
       "      <th>workclass_ Federal-gov</th>\n",
       "      <th>workclass_ Local-gov</th>\n",
       "      <th>workclass_ Never-worked</th>\n",
       "      <th>workclass_ Private</th>\n",
       "      <th>workclass_ Self-emp-inc</th>\n",
       "      <th>...</th>\n",
       "      <th>native-country_ Puerto-Rico</th>\n",
       "      <th>native-country_ Scotland</th>\n",
       "      <th>native-country_ South</th>\n",
       "      <th>native-country_ Taiwan</th>\n",
       "      <th>native-country_ Thailand</th>\n",
       "      <th>native-country_ Trinadad&amp;Tobago</th>\n",
       "      <th>native-country_ United-States</th>\n",
       "      <th>native-country_ Vietnam</th>\n",
       "      <th>native-country_ Yugoslavia</th>\n",
       "      <th>Salary</th>\n",
       "    </tr>\n",
       "  </thead>\n",
       "  <tbody>\n",
       "    <tr>\n",
       "      <th>0</th>\n",
       "      <td>39</td>\n",
       "      <td>2174</td>\n",
       "      <td>0</td>\n",
       "      <td>40</td>\n",
       "      <td>0</td>\n",
       "      <td>0</td>\n",
       "      <td>0</td>\n",
       "      <td>0</td>\n",
       "      <td>0</td>\n",
       "      <td>0</td>\n",
       "      <td>...</td>\n",
       "      <td>0</td>\n",
       "      <td>0</td>\n",
       "      <td>0</td>\n",
       "      <td>0</td>\n",
       "      <td>0</td>\n",
       "      <td>0</td>\n",
       "      <td>1</td>\n",
       "      <td>0</td>\n",
       "      <td>0</td>\n",
       "      <td>0</td>\n",
       "    </tr>\n",
       "    <tr>\n",
       "      <th>1</th>\n",
       "      <td>50</td>\n",
       "      <td>0</td>\n",
       "      <td>0</td>\n",
       "      <td>13</td>\n",
       "      <td>0</td>\n",
       "      <td>0</td>\n",
       "      <td>0</td>\n",
       "      <td>0</td>\n",
       "      <td>0</td>\n",
       "      <td>0</td>\n",
       "      <td>...</td>\n",
       "      <td>0</td>\n",
       "      <td>0</td>\n",
       "      <td>0</td>\n",
       "      <td>0</td>\n",
       "      <td>0</td>\n",
       "      <td>0</td>\n",
       "      <td>1</td>\n",
       "      <td>0</td>\n",
       "      <td>0</td>\n",
       "      <td>0</td>\n",
       "    </tr>\n",
       "    <tr>\n",
       "      <th>2</th>\n",
       "      <td>38</td>\n",
       "      <td>0</td>\n",
       "      <td>0</td>\n",
       "      <td>40</td>\n",
       "      <td>0</td>\n",
       "      <td>0</td>\n",
       "      <td>0</td>\n",
       "      <td>0</td>\n",
       "      <td>1</td>\n",
       "      <td>0</td>\n",
       "      <td>...</td>\n",
       "      <td>0</td>\n",
       "      <td>0</td>\n",
       "      <td>0</td>\n",
       "      <td>0</td>\n",
       "      <td>0</td>\n",
       "      <td>0</td>\n",
       "      <td>1</td>\n",
       "      <td>0</td>\n",
       "      <td>0</td>\n",
       "      <td>0</td>\n",
       "    </tr>\n",
       "    <tr>\n",
       "      <th>3</th>\n",
       "      <td>53</td>\n",
       "      <td>0</td>\n",
       "      <td>0</td>\n",
       "      <td>40</td>\n",
       "      <td>0</td>\n",
       "      <td>0</td>\n",
       "      <td>0</td>\n",
       "      <td>0</td>\n",
       "      <td>1</td>\n",
       "      <td>0</td>\n",
       "      <td>...</td>\n",
       "      <td>0</td>\n",
       "      <td>0</td>\n",
       "      <td>0</td>\n",
       "      <td>0</td>\n",
       "      <td>0</td>\n",
       "      <td>0</td>\n",
       "      <td>1</td>\n",
       "      <td>0</td>\n",
       "      <td>0</td>\n",
       "      <td>0</td>\n",
       "    </tr>\n",
       "    <tr>\n",
       "      <th>4</th>\n",
       "      <td>28</td>\n",
       "      <td>0</td>\n",
       "      <td>0</td>\n",
       "      <td>40</td>\n",
       "      <td>0</td>\n",
       "      <td>0</td>\n",
       "      <td>0</td>\n",
       "      <td>0</td>\n",
       "      <td>1</td>\n",
       "      <td>0</td>\n",
       "      <td>...</td>\n",
       "      <td>0</td>\n",
       "      <td>0</td>\n",
       "      <td>0</td>\n",
       "      <td>0</td>\n",
       "      <td>0</td>\n",
       "      <td>0</td>\n",
       "      <td>0</td>\n",
       "      <td>0</td>\n",
       "      <td>0</td>\n",
       "      <td>0</td>\n",
       "    </tr>\n",
       "  </tbody>\n",
       "</table>\n",
       "<p>5 rows × 106 columns</p>\n",
       "</div>"
      ],
      "text/plain": [
       "   age  capital-gain  capital-loss  hours-per-week  workclass_ ?  \\\n",
       "0   39          2174             0              40             0   \n",
       "1   50             0             0              13             0   \n",
       "2   38             0             0              40             0   \n",
       "3   53             0             0              40             0   \n",
       "4   28             0             0              40             0   \n",
       "\n",
       "   workclass_ Federal-gov  workclass_ Local-gov  workclass_ Never-worked  \\\n",
       "0                       0                     0                        0   \n",
       "1                       0                     0                        0   \n",
       "2                       0                     0                        0   \n",
       "3                       0                     0                        0   \n",
       "4                       0                     0                        0   \n",
       "\n",
       "   workclass_ Private  workclass_ Self-emp-inc   ...    \\\n",
       "0                   0                        0   ...     \n",
       "1                   0                        0   ...     \n",
       "2                   1                        0   ...     \n",
       "3                   1                        0   ...     \n",
       "4                   1                        0   ...     \n",
       "\n",
       "   native-country_ Puerto-Rico  native-country_ Scotland  \\\n",
       "0                            0                         0   \n",
       "1                            0                         0   \n",
       "2                            0                         0   \n",
       "3                            0                         0   \n",
       "4                            0                         0   \n",
       "\n",
       "   native-country_ South  native-country_ Taiwan  native-country_ Thailand  \\\n",
       "0                      0                       0                         0   \n",
       "1                      0                       0                         0   \n",
       "2                      0                       0                         0   \n",
       "3                      0                       0                         0   \n",
       "4                      0                       0                         0   \n",
       "\n",
       "   native-country_ Trinadad&Tobago  native-country_ United-States  \\\n",
       "0                                0                              1   \n",
       "1                                0                              1   \n",
       "2                                0                              1   \n",
       "3                                0                              1   \n",
       "4                                0                              0   \n",
       "\n",
       "   native-country_ Vietnam  native-country_ Yugoslavia  Salary  \n",
       "0                        0                           0       0  \n",
       "1                        0                           0       0  \n",
       "2                        0                           0       0  \n",
       "3                        0                           0       0  \n",
       "4                        0                           0       0  \n",
       "\n",
       "[5 rows x 106 columns]"
      ]
     },
     "execution_count": 9,
     "metadata": {},
     "output_type": "execute_result"
    }
   ],
   "source": [
    "data = data.rename(columns={'sex_ Female':'sex', 'Salary_ >50K':'Salary' })\n",
    "data.head()"
   ]
  },
  {
   "cell_type": "code",
   "execution_count": 10,
   "metadata": {
    "collapsed": true
   },
   "outputs": [],
   "source": [
    "X = data.iloc[:, :-1]\n",
    "y = data.iloc[:,-1]"
   ]
  },
  {
   "cell_type": "code",
   "execution_count": 11,
   "metadata": {},
   "outputs": [
    {
     "data": {
      "text/plain": [
       "age                                           32561\n",
       "capital-gain                                  32561\n",
       "capital-loss                                  32561\n",
       "hours-per-week                                32561\n",
       "workclass_ ?                                  32561\n",
       "workclass_ Federal-gov                        32561\n",
       "workclass_ Local-gov                          32561\n",
       "workclass_ Never-worked                       32561\n",
       "workclass_ Private                            32561\n",
       "workclass_ Self-emp-inc                       32561\n",
       "workclass_ Self-emp-not-inc                   32561\n",
       "workclass_ State-gov                          32561\n",
       "workclass_ Without-pay                        32561\n",
       "education_ 10th                               32561\n",
       "education_ 11th                               32561\n",
       "education_ 12th                               32561\n",
       "education_ 1st-4th                            32561\n",
       "education_ 5th-6th                            32561\n",
       "education_ 7th-8th                            32561\n",
       "education_ 9th                                32561\n",
       "education_ Assoc-acdm                         32561\n",
       "education_ Assoc-voc                          32561\n",
       "education_ Bachelors                          32561\n",
       "education_ Doctorate                          32561\n",
       "education_ HS-grad                            32561\n",
       "education_ Masters                            32561\n",
       "education_ Preschool                          32561\n",
       "education_ Prof-school                        32561\n",
       "education_ Some-college                       32561\n",
       "marital-status_ Divorced                      32561\n",
       "                                              ...  \n",
       "native-country_ Greece                        32561\n",
       "native-country_ Guatemala                     32561\n",
       "native-country_ Haiti                         32561\n",
       "native-country_ Holand-Netherlands            32561\n",
       "native-country_ Honduras                      32561\n",
       "native-country_ Hong                          32561\n",
       "native-country_ Hungary                       32561\n",
       "native-country_ India                         32561\n",
       "native-country_ Iran                          32561\n",
       "native-country_ Ireland                       32561\n",
       "native-country_ Italy                         32561\n",
       "native-country_ Jamaica                       32561\n",
       "native-country_ Japan                         32561\n",
       "native-country_ Laos                          32561\n",
       "native-country_ Mexico                        32561\n",
       "native-country_ Nicaragua                     32561\n",
       "native-country_ Outlying-US(Guam-USVI-etc)    32561\n",
       "native-country_ Peru                          32561\n",
       "native-country_ Philippines                   32561\n",
       "native-country_ Poland                        32561\n",
       "native-country_ Portugal                      32561\n",
       "native-country_ Puerto-Rico                   32561\n",
       "native-country_ Scotland                      32561\n",
       "native-country_ South                         32561\n",
       "native-country_ Taiwan                        32561\n",
       "native-country_ Thailand                      32561\n",
       "native-country_ Trinadad&Tobago               32561\n",
       "native-country_ United-States                 32561\n",
       "native-country_ Vietnam                       32561\n",
       "native-country_ Yugoslavia                    32561\n",
       "Length: 105, dtype: int64"
      ]
     },
     "execution_count": 11,
     "metadata": {},
     "output_type": "execute_result"
    }
   ],
   "source": [
    "X.isna().count()"
   ]
  },
  {
   "cell_type": "markdown",
   "metadata": {},
   "source": [
    "### Classification \n",
    "First find the best classification model for this dataset. \n",
    "Try the following models:\n",
    "- Decision Tree Classifier\n",
    "- K Nearest Neighbor Classifier\n",
    "- Logisitic Regression "
   ]
  },
  {
   "cell_type": "markdown",
   "metadata": {},
   "source": [
    "#### Decision Tree"
   ]
  },
  {
   "cell_type": "code",
   "execution_count": 12,
   "metadata": {
    "collapsed": true
   },
   "outputs": [],
   "source": [
    "from sklearn.model_selection import train_test_split\n",
    "from sklearn.preprocessing import MinMaxScaler\n",
    "from sklearn.model_selection import GridSearchCV\n",
    "from sklearn.tree import DecisionTreeClassifier\n",
    "\n",
    "X_train, X_test, y_train, y_test = train_test_split(X, y, random_state = 10)"
   ]
  },
  {
   "cell_type": "code",
   "execution_count": 13,
   "metadata": {},
   "outputs": [
    {
     "data": {
      "text/plain": [
       "GridSearchCV(cv=10, error_score='raise',\n",
       "       estimator=DecisionTreeClassifier(class_weight=None, criterion='gini', max_depth=None,\n",
       "            max_features=None, max_leaf_nodes=None,\n",
       "            min_impurity_decrease=0.0, min_impurity_split=None,\n",
       "            min_samples_leaf=1, min_samples_split=2,\n",
       "            min_weight_fraction_leaf=0.0, presort=False, random_state=None,\n",
       "            splitter='best'),\n",
       "       fit_params=None, iid=True, n_jobs=1,\n",
       "       param_grid={'max_depth': [5, 10, 20, 50, 100]},\n",
       "       pre_dispatch='2*n_jobs', refit=True, return_train_score=True,\n",
       "       scoring=None, verbose=0)"
      ]
     },
     "execution_count": 13,
     "metadata": {},
     "output_type": "execute_result"
    }
   ],
   "source": [
    "dt_clf = DecisionTreeClassifier()\n",
    "param_grid = {'max_depth': [5, 10, 20, 50, 100]}\n",
    "\n",
    "grid_search = GridSearchCV(dt_clf, param_grid, cv = 10, return_train_score=True)\n",
    "grid_search.fit(X_train, y_train)"
   ]
  },
  {
   "cell_type": "code",
   "execution_count": 14,
   "metadata": {},
   "outputs": [
    {
     "data": {
      "text/plain": [
       "{'mean_fit_time': array([ 0.09027424,  0.15614963,  0.26783993,  0.28308918,  0.25836647]),\n",
       " 'mean_score_time': array([ 0.        ,  0.00312502,  0.00050147,  0.00180409,  0.00664649]),\n",
       " 'mean_test_score': array([ 0.84398034,  0.85753481,  0.83877969,  0.82272727,  0.82338247]),\n",
       " 'mean_train_score': array([ 0.84816634,  0.87194919,  0.92732282,  0.98042133,  0.98057603]),\n",
       " 'param_max_depth': masked_array(data = [5 10 20 50 100],\n",
       "              mask = [False False False False False],\n",
       "        fill_value = ?),\n",
       " 'params': [{'max_depth': 5},\n",
       "  {'max_depth': 10},\n",
       "  {'max_depth': 20},\n",
       "  {'max_depth': 50},\n",
       "  {'max_depth': 100}],\n",
       " 'rank_test_score': array([2, 1, 3, 5, 4]),\n",
       " 'split0_test_score': array([ 0.84445354,  0.86000819,  0.83749488,  0.82480557,  0.81989357]),\n",
       " 'split0_train_score': array([ 0.84802293,  0.8709105 ,  0.93161032,  0.98088911,  0.98093461]),\n",
       " 'split1_test_score': array([ 0.83913221,  0.84527221,  0.82439623,  0.81416291,  0.81252558]),\n",
       " 'split1_train_score': array([ 0.84843245,  0.87291259,  0.93302089,  0.98102562,  0.98102562]),\n",
       " 'split2_test_score': array([ 0.84690954,  0.86082685,  0.84527221,  0.83708555,  0.83340156]),\n",
       " 'split2_train_score': array([ 0.8473859 ,  0.87031897,  0.92728762,  0.98038859,  0.98038859]),\n",
       " 'split3_test_score': array([ 0.84240688,  0.86737618,  0.84813754,  0.83503889,  0.83667622]),\n",
       " 'split3_train_score': array([ 0.84583883,  0.87040997,  0.92419347,  0.97956955,  0.97956955]),\n",
       " 'split4_test_score': array([ 0.84854687,  0.85796152,  0.84199754,  0.8252149 ,  0.82562423]),\n",
       " 'split4_train_score': array([ 0.85016153,  0.87195705,  0.9246485 ,  0.9807071 ,  0.9807526 ]),\n",
       " 'split5_test_score': array([ 0.84104875,  0.85784515,  0.83859074,  0.81810733,  0.82343302]),\n",
       " 'split5_train_score': array([ 0.84858274,  0.87401611,  0.92438236,  0.98079985,  0.98089085]),\n",
       " 'split6_test_score': array([ 0.84145842,  0.8545678 ,  0.84022941,  0.82302335,  0.82834904]),\n",
       " 'split6_train_score': array([ 0.84849174,  0.87265117,  0.92911415,  0.97966241,  0.98048137]),\n",
       " 'split7_test_score': array([ 0.84350676,  0.8623515 ,  0.84063908,  0.817288  ,  0.81933634]),\n",
       " 'split7_train_score': array([ 0.84776377,  0.87251467,  0.92383639,  0.98057236,  0.98057236]),\n",
       " 'split8_test_score': array([ 0.84350676,  0.8557968 ,  0.83859074,  0.81073331,  0.81032364]),\n",
       " 'split8_train_score': array([ 0.8471723 ,  0.87155922,  0.92865917,  0.98052687,  0.98075436]),\n",
       " 'split9_test_score': array([ 0.84883245,  0.8533388 ,  0.83244572,  0.82179435,  0.82425236]),\n",
       " 'split9_train_score': array([ 0.84981118,  0.87224169,  0.92647527,  0.98007189,  0.98039037]),\n",
       " 'std_fit_time': array([ 0.01471521,  0.0080808 ,  0.04896678,  0.04163591,  0.05123911]),\n",
       " 'std_score_time': array([ 0.        ,  0.00625005,  0.00102775,  0.00204749,  0.00741465]),\n",
       " 'std_test_score': array([ 0.00307555,  0.00563183,  0.0062808 ,  0.00798395,  0.00790309]),\n",
       " 'std_train_score': array([ 0.00119304,  0.00111158,  0.00307101,  0.00047619,  0.00039804])}"
      ]
     },
     "execution_count": 14,
     "metadata": {},
     "output_type": "execute_result"
    }
   ],
   "source": [
    "grid_search.cv_results_"
   ]
  },
  {
   "cell_type": "code",
   "execution_count": 15,
   "metadata": {},
   "outputs": [
    {
     "data": {
      "text/plain": [
       "{'max_depth': 10}"
      ]
     },
     "execution_count": 15,
     "metadata": {},
     "output_type": "execute_result"
    }
   ],
   "source": [
    "grid_search.best_params_"
   ]
  },
  {
   "cell_type": "code",
   "execution_count": 16,
   "metadata": {},
   "outputs": [
    {
     "data": {
      "text/plain": [
       "0.85753480753480749"
      ]
     },
     "execution_count": 16,
     "metadata": {},
     "output_type": "execute_result"
    }
   ],
   "source": [
    "grid_search.best_score_"
   ]
  },
  {
   "cell_type": "code",
   "execution_count": 17,
   "metadata": {},
   "outputs": [
    {
     "name": "stdout",
     "output_type": "stream",
     "text": [
      "Train score: 0.87\n",
      "Test score: 0.86\n"
     ]
    }
   ],
   "source": [
    "dt_clf = DecisionTreeClassifier(max_depth = 10)\n",
    "dt_clf.fit(X_train,y_train)\n",
    "y_dt_clf = dt_clf.predict(X_test)\n",
    "print('Train score: {0:0.2f}'.format(dt_clf.score(X_train, y_train)))\n",
    "print('Test score: {0:0.2f}'.format(dt_clf.score(X_test, y_test)))"
   ]
  },
  {
   "cell_type": "markdown",
   "metadata": {},
   "source": [
    "#### K Nearest Neighbors Classifier"
   ]
  },
  {
   "cell_type": "code",
   "execution_count": 18,
   "metadata": {},
   "outputs": [
    {
     "data": {
      "text/plain": [
       "GridSearchCV(cv=10, error_score='raise',\n",
       "       estimator=KNeighborsClassifier(algorithm='auto', leaf_size=30, metric='minkowski',\n",
       "           metric_params=None, n_jobs=1, n_neighbors=5, p=2,\n",
       "           weights='uniform'),\n",
       "       fit_params=None, iid=True, n_jobs=1,\n",
       "       param_grid={'n_neighbors': [3, 5, 7]}, pre_dispatch='2*n_jobs',\n",
       "       refit=True, return_train_score=True, scoring=None, verbose=0)"
      ]
     },
     "execution_count": 18,
     "metadata": {},
     "output_type": "execute_result"
    }
   ],
   "source": [
    "from sklearn.neighbors import KNeighborsClassifier\n",
    "\n",
    "knn_clf = KNeighborsClassifier()\n",
    "\n",
    "param_grid = {'n_neighbors':[3, 5, 7]}\n",
    "\n",
    "grid_search = GridSearchCV(knn_clf , param_grid, cv = 10 , return_train_score=True)\n",
    "grid_search.fit(X_train, y_train)"
   ]
  },
  {
   "cell_type": "code",
   "execution_count": 19,
   "metadata": {},
   "outputs": [
    {
     "data": {
      "text/plain": [
       "{'mean_fit_time': array([ 0.9248179 ,  1.07493041,  1.38485959]),\n",
       " 'mean_score_time': array([ 1.77016602,  1.60183933,  1.6853312 ]),\n",
       " 'mean_test_score': array([ 0.83849304,  0.84336609,  0.8456593 ]),\n",
       " 'mean_train_score': array([ 0.90763494,  0.89045409,  0.88195012]),\n",
       " 'param_n_neighbors': masked_array(data = [3 5 7],\n",
       "              mask = [False False False],\n",
       "        fill_value = ?),\n",
       " 'params': [{'n_neighbors': 3}, {'n_neighbors': 5}, {'n_neighbors': 7}],\n",
       " 'rank_test_score': array([3, 2, 1]),\n",
       " 'split0_test_score': array([ 0.83340156,  0.83626688,  0.84854687]),\n",
       " 'split0_train_score': array([ 0.90849525,  0.8902944 ,  0.88287755]),\n",
       " 'split1_test_score': array([ 0.8264429 ,  0.84199754,  0.84076955]),\n",
       " 'split1_train_score': array([ 0.91036083,  0.89161396,  0.88419712]),\n",
       " 'split2_test_score': array([ 0.85223086,  0.85755219,  0.86246418]),\n",
       " 'split2_train_score': array([ 0.90653865,  0.88979388,  0.87891887]),\n",
       " 'split3_test_score': array([ 0.84609087,  0.84854687,  0.8465002 ]),\n",
       " 'split3_train_score': array([ 0.90822223,  0.88974837,  0.88119398]),\n",
       " 'split4_test_score': array([ 0.83913221,  0.84854687,  0.85223086]),\n",
       " 'split4_train_score': array([ 0.90813123,  0.8903399 ,  0.88128498]),\n",
       " 'split5_test_score': array([ 0.84391643,  0.84268742,  0.84350676]),\n",
       " 'split5_train_score': array([ 0.90695664,  0.89053187,  0.88234224]),\n",
       " 'split6_test_score': array([ 0.83613273,  0.83818107,  0.84637444]),\n",
       " 'split6_train_score': array([ 0.90686564,  0.89062287,  0.8830702 ]),\n",
       " 'split7_test_score': array([ 0.83490373,  0.84268742,  0.83941008]),\n",
       " 'split7_train_score': array([ 0.90763911,  0.89157832,  0.88234224]),\n",
       " 'split8_test_score': array([ 0.83285539,  0.83449406,  0.83039738]),\n",
       " 'split8_train_score': array([ 0.90691114,  0.89062287,  0.88243323]),\n",
       " 'split9_test_score': array([ 0.83981975,  0.84268742,  0.84637444]),\n",
       " 'split9_train_score': array([ 0.90622867,  0.88939442,  0.8808408 ]),\n",
       " 'std_fit_time': array([ 0.13115418,  0.12171345,  0.4495766 ]),\n",
       " 'std_score_time': array([ 0.51989615,  0.05771373,  0.16648847]),\n",
       " 'std_test_score': array([ 0.00706782,  0.0064363 ,  0.0079763 ]),\n",
       " 'std_train_score': array([ 0.00116263,  0.00069048,  0.0013834 ])}"
      ]
     },
     "execution_count": 19,
     "metadata": {},
     "output_type": "execute_result"
    }
   ],
   "source": [
    "grid_search.cv_results_"
   ]
  },
  {
   "cell_type": "code",
   "execution_count": 20,
   "metadata": {},
   "outputs": [
    {
     "data": {
      "text/plain": [
       "{'n_neighbors': 7}"
      ]
     },
     "execution_count": 20,
     "metadata": {},
     "output_type": "execute_result"
    }
   ],
   "source": [
    "grid_search.best_params_"
   ]
  },
  {
   "cell_type": "code",
   "execution_count": 21,
   "metadata": {},
   "outputs": [
    {
     "data": {
      "text/plain": [
       "0.84565929565929565"
      ]
     },
     "execution_count": 21,
     "metadata": {},
     "output_type": "execute_result"
    }
   ],
   "source": [
    "grid_search.best_score_"
   ]
  },
  {
   "cell_type": "code",
   "execution_count": 22,
   "metadata": {},
   "outputs": [
    {
     "name": "stdout",
     "output_type": "stream",
     "text": [
      "Train score: 0.88\n",
      "Test score: 0.85\n"
     ]
    }
   ],
   "source": [
    "knn_clf = KNeighborsClassifier(n_neighbors = 7)\n",
    "knn_clf.fit(X_train,y_train)\n",
    "y_knn_clf = knn_clf.predict(X_test)\n",
    "print('Train score: {0:0.2f}'.format(knn_clf.score(X_train, y_train)))\n",
    "print('Test score: {0:0.2f}'.format(knn_clf.score(X_test, y_test)))"
   ]
  },
  {
   "cell_type": "markdown",
   "metadata": {},
   "source": [
    "#### Logistic Regression"
   ]
  },
  {
   "cell_type": "code",
   "execution_count": 23,
   "metadata": {},
   "outputs": [
    {
     "data": {
      "text/plain": [
       "GridSearchCV(cv=10, error_score='raise',\n",
       "       estimator=LogisticRegression(C=1.0, class_weight=None, dual=False, fit_intercept=True,\n",
       "          intercept_scaling=1, max_iter=100, multi_class='ovr', n_jobs=1,\n",
       "          penalty='l2', random_state=None, solver='liblinear', tol=0.0001,\n",
       "          verbose=0, warm_start=False),\n",
       "       fit_params=None, iid=True, n_jobs=1,\n",
       "       param_grid={'penalty': ['l1', 'l2']}, pre_dispatch='2*n_jobs',\n",
       "       refit=True, return_train_score=True, scoring=None, verbose=0)"
      ]
     },
     "execution_count": 23,
     "metadata": {},
     "output_type": "execute_result"
    }
   ],
   "source": [
    "from sklearn.linear_model import LogisticRegression\n",
    "\n",
    "lreg_clf = LogisticRegression()\n",
    "\n",
    "param_grid = {'penalty':['l1', 'l2']}\n",
    "\n",
    "grid_search = GridSearchCV(lreg_clf , param_grid, cv = 10 , return_train_score=True)\n",
    "grid_search.fit(X_train, y_train)"
   ]
  },
  {
   "cell_type": "code",
   "execution_count": 24,
   "metadata": {},
   "outputs": [
    {
     "data": {
      "text/plain": [
       "{'mean_fit_time': array([ 0.34808843,  0.30501318]),\n",
       " 'mean_score_time': array([ 0.08712862,  0.00375752]),\n",
       " 'mean_test_score': array([ 0.85036855,  0.849181  ]),\n",
       " 'mean_train_score': array([ 0.85206571,  0.85097369]),\n",
       " 'param_penalty': masked_array(data = ['l1' 'l2'],\n",
       "              mask = [False False],\n",
       "        fill_value = ?),\n",
       " 'params': [{'penalty': 'l1'}, {'penalty': 'l2'}],\n",
       " 'rank_test_score': array([1, 2]),\n",
       " 'split0_test_score': array([ 0.84936553,  0.8514122 ]),\n",
       " 'split0_train_score': array([ 0.85175411,  0.85107157]),\n",
       " 'split1_test_score': array([ 0.84527221,  0.84158821]),\n",
       " 'split1_train_score': array([ 0.85139009,  0.8516176 ]),\n",
       " 'split2_test_score': array([ 0.8465002 ,  0.84281621]),\n",
       " 'split2_train_score': array([ 0.85311917,  0.84957001]),\n",
       " 'split3_test_score': array([ 0.86041752,  0.85959885]),\n",
       " 'split3_train_score': array([ 0.85189061,  0.849388  ]),\n",
       " 'split4_test_score': array([ 0.85059353,  0.8514122 ]),\n",
       " 'split4_train_score': array([ 0.85252764,  0.85230013]),\n",
       " 'split5_test_score': array([ 0.84596477,  0.84227776]),\n",
       " 'split5_train_score': array([ 0.85226807,  0.85090313]),\n",
       " 'split6_test_score': array([ 0.84145842,  0.84104875]),\n",
       " 'split6_train_score': array([ 0.85249556,  0.85267756]),\n",
       " 'split7_test_score': array([ 0.8545678 ,  0.85251946]),\n",
       " 'split7_train_score': array([ 0.85217708,  0.85063015]),\n",
       " 'split8_test_score': array([ 0.8533388 ,  0.85497747]),\n",
       " 'split8_train_score': array([ 0.85140361,  0.85103963]),\n",
       " 'split9_test_score': array([ 0.85620647,  0.85415813]),\n",
       " 'split9_train_score': array([ 0.8516311 ,  0.85053915]),\n",
       " 'std_fit_time': array([ 0.21761226,  0.07197963]),\n",
       " 'std_score_time': array([ 0.25152604,  0.00132918]),\n",
       " 'std_test_score': array([ 0.00549809,  0.0063243 ]),\n",
       " 'std_train_score': array([ 0.00052657,  0.00099437])}"
      ]
     },
     "execution_count": 24,
     "metadata": {},
     "output_type": "execute_result"
    }
   ],
   "source": [
    "grid_search.cv_results_"
   ]
  },
  {
   "cell_type": "code",
   "execution_count": 25,
   "metadata": {},
   "outputs": [
    {
     "data": {
      "text/plain": [
       "{'penalty': 'l1'}"
      ]
     },
     "execution_count": 25,
     "metadata": {},
     "output_type": "execute_result"
    }
   ],
   "source": [
    "grid_search.best_params_"
   ]
  },
  {
   "cell_type": "code",
   "execution_count": 26,
   "metadata": {},
   "outputs": [
    {
     "data": {
      "text/plain": [
       "0.85036855036855041"
      ]
     },
     "execution_count": 26,
     "metadata": {},
     "output_type": "execute_result"
    }
   ],
   "source": [
    "grid_search.best_score_"
   ]
  },
  {
   "cell_type": "code",
   "execution_count": 27,
   "metadata": {},
   "outputs": [
    {
     "data": {
      "text/plain": [
       "0.85036855036855041"
      ]
     },
     "execution_count": 27,
     "metadata": {},
     "output_type": "execute_result"
    }
   ],
   "source": [
    "grid_search.best_score_"
   ]
  },
  {
   "cell_type": "code",
   "execution_count": 28,
   "metadata": {},
   "outputs": [
    {
     "name": "stdout",
     "output_type": "stream",
     "text": [
      "Train score: 0.85\n",
      "Test score: 0.85\n"
     ]
    }
   ],
   "source": [
    "lreg_clf = LogisticRegression(penalty = 'l1')\n",
    "lreg_clf.fit(X_train,y_train)\n",
    "y_lreg_clf = lreg_clf.predict(X_test)\n",
    "print('Train score: {0:0.2f}'.format(lreg_clf.score(X_train, y_train)))\n",
    "print('Test score: {0:0.2f}'.format(lreg_clf.score(X_test, y_test)))"
   ]
  },
  {
   "cell_type": "markdown",
   "metadata": {},
   "source": [
    "#### Copmpare results: "
   ]
  },
  {
   "cell_type": "code",
   "execution_count": 29,
   "metadata": {
    "collapsed": true
   },
   "outputs": [],
   "source": [
    "y_values = pd.DataFrame({'DecisionTree':y_dt_clf, 'KNN':y_knn_clf, 'Logistic Regression':y_lreg_clf})\n",
    "y_values.to_csv('y_values.csv')"
   ]
  },
  {
   "cell_type": "markdown",
   "metadata": {},
   "source": [
    "#### Voting Classifier"
   ]
  },
  {
   "cell_type": "code",
   "execution_count": 30,
   "metadata": {},
   "outputs": [
    {
     "name": "stdout",
     "output_type": "stream",
     "text": [
      "Train score: 0.88\n",
      "Test score: 0.86\n"
     ]
    }
   ],
   "source": [
    "from sklearn.ensemble import VotingClassifier\n",
    "\n",
    "hard_voting_clf = VotingClassifier(estimators=[('dt', dt_clf),('knn', knn_clf),('lr',lreg_clf)], voting = 'hard')\n",
    "hard_voting_clf.fit(X_train, y_train)\n",
    "print('Train score: {0:0.2f}'.format(hard_voting_clf.score(X_train, y_train)))\n",
    "print('Test score: {0:0.2f}'.format(hard_voting_clf.score(X_test, y_test)))"
   ]
  },
  {
   "cell_type": "code",
   "execution_count": 31,
   "metadata": {},
   "outputs": [
    {
     "name": "stdout",
     "output_type": "stream",
     "text": [
      "Train score: 0.88\n",
      "Test score: 0.87\n"
     ]
    }
   ],
   "source": [
    "from sklearn.ensemble import VotingClassifier\n",
    "\n",
    "soft_voting_clf = VotingClassifier(estimators=[('dt', dt_clf),('knn', knn_clf),('lr',lreg_clf)], voting = 'soft')\n",
    "soft_voting_clf.fit(X_train, y_train)\n",
    "print('Train score: {0:0.2f}'.format(soft_voting_clf.score(X_train, y_train)))\n",
    "print('Test score: {0:0.2f}'.format(soft_voting_clf.score(X_test, y_test)))"
   ]
  },
  {
   "cell_type": "markdown",
   "metadata": {},
   "source": [
    "#### Bagging and Pasting\n",
    "bootstrap : boolean, optional (default=True)\n",
    "Whether samples are drawn with replacement.\n",
    "\n",
    "bootstrap_features : boolean, optional (default=False)\n",
    "Whether features are drawn with replacement."
   ]
  },
  {
   "cell_type": "code",
   "execution_count": null,
   "metadata": {},
   "outputs": [],
   "source": [
    "from sklearn.ensemble import BaggingClassifier\n",
    "\n",
    "\n",
    "bagging_clf = BaggingClassifier(knn_clf , n_estimators = 100, max_features = 20, bootstrap = True, oob_score = True)\n",
    "bagging_clf.fit(X,y)\n",
    "\n",
    "print('Train score: {0:0.2f}'.format(bagging_clf.score(X,y)))\n",
    "print('out of bag score: {0:0.2f}'.format(bagging_clf.oob_score_))"
   ]
  },
  {
   "cell_type": "markdown",
   "metadata": {},
   "source": [
    "#### Adaboost Classifier\n",
    "\n",
    "n_estimators : integer, optional (default=50)\n",
    "The maximum number of estimators at which boosting is terminated. In case of perfect fit, the learning procedure is stopped early."
   ]
  },
  {
   "cell_type": "code",
   "execution_count": null,
   "metadata": {},
   "outputs": [],
   "source": [
    "from sklearn.ensemble import AdaBoostClassifier\n",
    "\n",
    "adaboost_clf = AdaBoostClassifier(base_estimator = dt_clf, learning_rate = 0.5)\n",
    "adaboost_clf.fit(X_train, y_train)\n",
    "print('Train score: {0:0.2f}'.format(adaboost_clf.score(X_train, y_train)))\n",
    "print('Test score: {0:0.2f}'.format(adaboost_clf.score(X_test, y_test)))"
   ]
  },
  {
   "cell_type": "markdown",
   "metadata": {},
   "source": [
    "#### Gradient Boosting Classifier\n",
    "\n",
    "GB builds an additive model in a forward stage-wise fashion; it allows for the optimization of arbitrary differentiable loss functions. In each stage n_classes_ regression trees are fit on the negative gradient of the binomial or multinomial deviance loss function. Binary classification is a special case where only a single regression tree is induced."
   ]
  },
  {
   "cell_type": "code",
   "execution_count": 113,
   "metadata": {},
   "outputs": [
    {
     "name": "stdout",
     "output_type": "stream",
     "text": [
      "Train score: 0.86\n",
      "Test score: 0.86\n"
     ]
    }
   ],
   "source": [
    "from sklearn.ensemble import GradientBoostingClassifier\n",
    "\n",
    "gb_clf = GradientBoostingClassifier(learning_rate = 0.05)\n",
    "gb_clf.fit(X_train, y_train)\n",
    "print('Train score: {0:0.2f}'.format(gb_clf.score(X_train, y_train)))\n",
    "print('Test score: {0:0.2f}'.format(gb_clf.score(X_test, y_test)))"
   ]
  },
  {
   "cell_type": "markdown",
   "metadata": {},
   "source": [
    "## Dimension Reduction"
   ]
  },
  {
   "cell_type": "code",
   "execution_count": 115,
   "metadata": {},
   "outputs": [
    {
     "data": {
      "text/plain": [
       "1"
      ]
     },
     "execution_count": 115,
     "metadata": {},
     "output_type": "execute_result"
    }
   ],
   "source": [
    "from sklearn.decomposition import PCA\n",
    "import numpy as np\n",
    "\n",
    "pca = PCA()\n",
    "pca.fit(X_train)\n",
    "cumsum = np.cumsum(pca.explained_variance_ratio_)\n",
    "d = np.argmax(cumsum >= 0.95) + 1\n",
    "d"
   ]
  },
  {
   "cell_type": "code",
   "execution_count": 123,
   "metadata": {
    "collapsed": true
   },
   "outputs": [],
   "source": [
    "pca = PCA(n_components=0.99)\n",
    "X_reduced = pca.fit_transform(X_train)"
   ]
  },
  {
   "cell_type": "code",
   "execution_count": 124,
   "metadata": {},
   "outputs": [
    {
     "data": {
      "text/plain": [
       "1"
      ]
     },
     "execution_count": 124,
     "metadata": {},
     "output_type": "execute_result"
    }
   ],
   "source": [
    "pca.n_components_"
   ]
  }
 ],
 "metadata": {
  "kernelspec": {
   "display_name": "Python 3",
   "language": "python",
   "name": "python3"
  },
  "language_info": {
   "codemirror_mode": {
    "name": "ipython",
    "version": 3
   },
   "file_extension": ".py",
   "mimetype": "text/x-python",
   "name": "python",
   "nbconvert_exporter": "python",
   "pygments_lexer": "ipython3",
   "version": "3.6.3"
  }
 },
 "nbformat": 4,
 "nbformat_minor": 2
}
